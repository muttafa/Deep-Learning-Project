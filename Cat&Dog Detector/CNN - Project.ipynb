{
 "cells": [
  {
   "cell_type": "markdown",
   "id": "81be5486-1b88-48a6-a864-3fc1421338d0",
   "metadata": {},
   "source": [
    "Kütüphanelerin Yüklenmesi (import librarys)"
   ]
  },
  {
   "cell_type": "code",
   "execution_count": 16,
   "id": "56656393-bf4a-49ea-a372-25ae2dfab960",
   "metadata": {},
   "outputs": [],
   "source": [
    "import tensorflow as tf\n",
    "from keras.preprocessing.image import ImageDataGenerator"
   ]
  },
  {
   "cell_type": "code",
   "execution_count": 17,
   "id": "23d15f61-dc39-472b-b675-a653f66def14",
   "metadata": {},
   "outputs": [
    {
     "data": {
      "text/plain": [
       "'2.12.0'"
      ]
     },
     "execution_count": 17,
     "metadata": {},
     "output_type": "execute_result"
    }
   ],
   "source": [
    "tf.__version__"
   ]
  },
  {
   "cell_type": "markdown",
   "id": "5c4acedf-d7f3-4849-bfc8-e2e0c44417f7",
   "metadata": {},
   "source": [
    "Resimlerin ön işlenmesi ve resimlerin projeye dahil edilmesi (Pre-processing of images and incorporation of images into the project)"
   ]
  },
  {
   "cell_type": "markdown",
   "id": "766edf92-9302-4ecd-bf81-f33fe1f199b9",
   "metadata": {},
   "source": [
    "train_datagen = ImageDataGenerator(rescale = 1./255,\n",
    "                                   shear_range = 0.2,\n",
    "                                   zoom_range = 0.2,\n",
    "                                   horizontal_flip = True)\n",
    "training_set = train_datagen.flow_from_directory(\"C:/Users/mucar/Desktop/Deep Learning Project/Cat&Dog Detector/training_set\",\n",
    "                                                 target_size=(64,64),\n",
    "                                                 batch_size= 32,\n",
    "                                                 class_mode = \"binary\")"
   ]
  },
  {
   "cell_type": "markdown",
   "id": "ba576bb2-d655-4175-805a-5b619862bb27",
   "metadata": {},
   "source": [
    "Test verilerine de aynı işlemin yapılması (Doing the same with test data)"
   ]
  },
  {
   "cell_type": "code",
   "execution_count": 7,
   "id": "8c1098a0-3e13-4a2f-9624-fc289b2012cb",
   "metadata": {},
   "outputs": [
    {
     "name": "stdout",
     "output_type": "stream",
     "text": [
      "Found 2023 images belonging to 2 classes.\n"
     ]
    }
   ],
   "source": [
    "test_datagen = ImageDataGenerator(rescale = 1./255)\n",
    "test_set = test_datagen.flow_from_directory(\"C:/Users/mucar/Desktop/Deep Learning Project/Cat&Dog Detector/test_set/test_set\",\n",
    "                                            target_size= (64,64),\n",
    "                                            batch_size= 32,\n",
    "                                            class_mode = \"binary\"\n",
    "                                           )"
   ]
  },
  {
   "cell_type": "markdown",
   "id": "d65fef79-4bdd-42e9-9480-fb90db424d82",
   "metadata": {},
   "source": [
    "Model Oluşturulması (Model Creation)"
   ]
  },
  {
   "cell_type": "code",
   "execution_count": 14,
   "id": "6220c780-b9d7-428b-b364-756b582c46c3",
   "metadata": {},
   "outputs": [],
   "source": [
    "cnn = tf.keras.models.Sequential()"
   ]
  },
  {
   "cell_type": "code",
   "execution_count": 12,
   "id": "1cd0d8a0-eb31-4db6-bb7e-ad92fb478e91",
   "metadata": {},
   "outputs": [],
   "source": [
    "cnn.add(tf.keras.layers.Conv2D(filters=32, kernel_size=3, activation=\"relu\", input_shape=(64,64,3)))"
   ]
  },
  {
   "cell_type": "code",
   "execution_count": 13,
   "id": "2af01a9b-01de-4acf-8e12-456b37d53797",
   "metadata": {},
   "outputs": [],
   "source": [
    "cnn.add(tf.keras.layers.MaxPool2D(pool_size=2,strides= 2))"
   ]
  },
  {
   "cell_type": "code",
   "execution_count": 20,
   "id": "2b3da50f-847e-42d6-98c5-ef631cd95d14",
   "metadata": {},
   "outputs": [],
   "source": [
    "cnn.add(tf.keras.layers.Conv2D(filters=32,kernel_size=3,activation=\"relu\"))"
   ]
  },
  {
   "cell_type": "code",
   "execution_count": 21,
   "id": "2e166687-1578-4897-8137-1bd2d9707961",
   "metadata": {},
   "outputs": [],
   "source": [
    "cnn.add(tf.keras.layers.MaxPool2D(pool_size=2,strides=2))"
   ]
  },
  {
   "cell_type": "code",
   "execution_count": 75,
   "id": "48c598d2-19f4-4532-bbde-87780dd93d88",
   "metadata": {},
   "outputs": [],
   "source": [
    "cnn.add(tf.keras.layers.Flatten())"
   ]
  },
  {
   "cell_type": "code",
   "execution_count": 76,
   "id": "cdbf0b53-f303-4a1a-8bea-78eefdab3da3",
   "metadata": {},
   "outputs": [],
   "source": [
    "cnn.add(tf.keras.layers.Dense(units=128,activation=\"relu\"))"
   ]
  },
  {
   "cell_type": "code",
   "execution_count": 77,
   "id": "b8cf7f7e-7393-4f18-b889-f34871cdc2a7",
   "metadata": {},
   "outputs": [],
   "source": [
    "cnn.add(tf.keras.layers.Dense(units=1,activation=\"sigmoid\"))"
   ]
  },
  {
   "cell_type": "code",
   "execution_count": 78,
   "id": "197ad739-80ab-40c7-8914-fbbe43d325a5",
   "metadata": {},
   "outputs": [],
   "source": [
    "cnn.compile(optimizer=\"adam\",loss=\"binary_crossentropy\",metrics=[\"accuracy\"])"
   ]
  },
  {
   "cell_type": "code",
   "execution_count": null,
   "id": "c955f7c6-69ba-4036-9a93-0bb81430544a",
   "metadata": {},
   "outputs": [],
   "source": [
    "cnn.fit(x = training_set, validation_data = test_set , epochs=50)"
   ]
  },
  {
   "cell_type": "code",
   "execution_count": null,
   "id": "e0bbadd0-df4b-42ca-b11a-c5a0c19dd63b",
   "metadata": {},
   "outputs": [],
   "source": [
    "import numpy as np\n",
    "import keras.utils as image\n",
    "\n",
    "test_image = image.load_img(\"C:/Users/mucar/Desktop/Deep Learning Project/Cat&Dog Detector/test images/cat.jpg\",target_size=(64,64))\n",
    "test_image = image.img_to_array(test_image)\n",
    "test_image = np.expand_dims(test_image,axis=0)\n",
    "\n",
    "result = cnn.predict(test_image)\n",
    "\n",
    "if result[0][0] == 1:\n",
    "    prediction = \"dog\"\n",
    "else:\n",
    "    prediction =\"cat\""
   ]
  },
  {
   "cell_type": "code",
   "execution_count": 72,
   "id": "da27d592-4db4-4bb3-9186-3cac60218db7",
   "metadata": {},
   "outputs": [
    {
     "name": "stdout",
     "output_type": "stream",
     "text": [
      "dog\n"
     ]
    }
   ],
   "source": [
    "print(prediction)"
   ]
  },
  {
   "cell_type": "code",
   "execution_count": 73,
   "id": "db84339c-3820-40fa-895b-572f790a7e97",
   "metadata": {},
   "outputs": [
    {
     "data": {
      "text/plain": [
       "{'cats': 0, 'dogs': 1}"
      ]
     },
     "execution_count": 73,
     "metadata": {},
     "output_type": "execute_result"
    }
   ],
   "source": [
    "training_set.class_indices"
   ]
  },
  {
   "cell_type": "code",
   "execution_count": null,
   "id": "7e0c5c74-9023-4900-b656-cbfcbe8b0260",
   "metadata": {},
   "outputs": [],
   "source": []
  }
 ],
 "metadata": {
  "kernelspec": {
   "display_name": "Python 3 (ipykernel)",
   "language": "python",
   "name": "python3"
  },
  "language_info": {
   "codemirror_mode": {
    "name": "ipython",
    "version": 3
   },
   "file_extension": ".py",
   "mimetype": "text/x-python",
   "name": "python",
   "nbconvert_exporter": "python",
   "pygments_lexer": "ipython3",
   "version": "3.9.16"
  }
 },
 "nbformat": 4,
 "nbformat_minor": 5
}
